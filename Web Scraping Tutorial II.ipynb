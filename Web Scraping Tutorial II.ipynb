{
 "cells": [
  {
   "cell_type": "markdown",
   "id": "e7d7e85d",
   "metadata": {},
   "source": [
    "#### Python's requests library-> get() function will get web page. The response r contains many things but uisng  r.content we can get HTML ."
   ]
  },
  {
   "cell_type": "code",
   "execution_count": 27,
   "id": "530e3291",
   "metadata": {},
   "outputs": [
    {
     "name": "stdout",
     "output_type": "stream",
     "text": [
      "b'<!DOCTYPE html>\\n<html  lang=\"en\" dir=\"ltr\" prefix=\"content: http://purl.org/rss/1.0/modules/content/'\n"
     ]
    }
   ],
   "source": [
    "import requests\n",
    "\n",
    "url = \"https://www.allsides.com/media-bias/media-bias-ratings\"\n",
    "\n",
    "r = requests.get(url)\n",
    "\n",
    "print(r.content[:100])"
   ]
  },
  {
   "cell_type": "markdown",
   "id": "5428c2c1",
   "metadata": {},
   "source": [
    "#### Parsing HTML with BeautifulSoup"
   ]
  },
  {
   "cell_type": "markdown",
   "id": "c3ca157f",
   "metadata": {},
   "source": [
    "Requests used for get the web page.\n",
    "BeautifulSoup use for parse HTML and XML .\n",
    "When we pass our HTML to the BeautifulSoup constructor we get an object in return that we can then navigate like the original tree structure of the DOM."
   ]
  },
  {
   "cell_type": "code",
   "execution_count": 28,
   "id": "0bc5f9fc",
   "metadata": {},
   "outputs": [],
   "source": [
    "#creating a new soup object\n",
    "from bs4 import BeautifulSoup\n",
    "\n",
    "soup = BeautifulSoup(r.content, 'html.parser')"
   ]
  },
  {
   "cell_type": "markdown",
   "id": "6e9ca271",
   "metadata": {},
   "source": [
    "#### Finding elements and data"
   ]
  },
  {
   "cell_type": "markdown",
   "id": "4031e418",
   "metadata": {},
   "source": [
    "select_one -> returns single element\n",
    "select -> returns list of elements\n",
    "Ex: \n",
    "1. select_one(\"a\") -> gets an anchor/link element\n",
    "2. select_one('body') -> gets the body element\n",
    "3. select_one('.temp') -> to get <a class=\"temp\"></a>\n",
    "4. select_one('#temp') -> to get <a id=\"temp\"></a> \n",
    "5. select_one('.temp.example') -> to get <div class=\"temp\"><a></a></div>\n",
    "6. select_one('.temp .example') -> o get <div class=\"temp\"><a class=\"example\"></a></div> (gain, note the space between .temp and .example. The space tells the selector that the class after the space is a child of the class before the space.)\n"
   ]
  },
  {
   "cell_type": "markdown",
   "id": "1044ed19",
   "metadata": {},
   "source": [
    "select all the rows from the table and then parse out the information from each row."
   ]
  },
  {
   "cell_type": "code",
   "execution_count": 29,
   "id": "6155a739",
   "metadata": {},
   "outputs": [],
   "source": [
    "#get each row select all tr inside tbody\n",
    "rows = soup.select('tbody tr')# extract all <tr> tags that are childern of parent<tbody> tag"
   ]
  },
  {
   "cell_type": "code",
   "execution_count": 30,
   "id": "528cba28",
   "metadata": {},
   "outputs": [
    {
     "name": "stdout",
     "output_type": "stream",
     "text": [
      "Associated Press\n"
     ]
    }
   ],
   "source": [
    "#extract news source name\n",
    "row = rows[0]\n",
    "\n",
    "name = row.select_one('.views-field-title').text.strip()\n",
    "\n",
    "print(name)"
   ]
  },
  {
   "cell_type": "code",
   "execution_count": 31,
   "id": "b579c979",
   "metadata": {},
   "outputs": [
    {
     "name": "stdout",
     "output_type": "stream",
     "text": [
      "https://www.allsides.com/news-source/associated-press-media-bias\n"
     ]
    }
   ],
   "source": [
    "#extrcat source page link\n",
    "link_als = row.select_one('.views-field-title a')['href']\n",
    "link_als = \"https://www.allsides.com\" + link_als\n",
    "\n",
    "print(link_als)"
   ]
  },
  {
   "cell_type": "code",
   "execution_count": 32,
   "id": "c161cbb9",
   "metadata": {},
   "outputs": [
    {
     "name": "stdout",
     "output_type": "stream",
     "text": [
      "left-center\n"
     ]
    }
   ],
   "source": [
    "#extract bias rating\n",
    "bias = row.select_one('.views-field-field-bias-image a')['href']\n",
    "bias = bias.split('/')[-1]\n",
    "\n",
    "print(bias)"
   ]
  },
  {
   "cell_type": "code",
   "execution_count": 33,
   "id": "3abeff8d",
   "metadata": {},
   "outputs": [
    {
     "name": "stdout",
     "output_type": "stream",
     "text": [
      "Agree: 31601, Disagree: 24694, Ratio 1.28\n"
     ]
    }
   ],
   "source": [
    "#extract community feedback data\n",
    "agree = row.select_one('.agree').text\n",
    "agree = int(agree)\n",
    "\n",
    "disagree = row.select_one('.disagree').text\n",
    "disagree = int(disagree)\n",
    "\n",
    "agree_ratio = agree / disagree\n",
    "\n",
    "print(f\"Agree: {agree}, Disagree: {disagree}, Ratio {agree_ratio:.2f}\")"
   ]
  },
  {
   "cell_type": "code",
   "execution_count": 34,
   "id": "fa070d56",
   "metadata": {},
   "outputs": [
    {
     "name": "stdout",
     "output_type": "stream",
     "text": [
      "None\n"
     ]
    }
   ],
   "source": [
    "print(row.select_one('.community-feedback-rating-page'))"
   ]
  },
  {
   "cell_type": "code",
   "execution_count": 35,
   "id": "e8130937",
   "metadata": {},
   "outputs": [
    {
     "name": "stdout",
     "output_type": "stream",
     "text": [
      "strongly agrees\n"
     ]
    }
   ],
   "source": [
    "def get_agreeance_text(ratio):\n",
    "    if ratio > 3: return \"absolutely agrees\"\n",
    "    elif 2 < ratio <= 3: return \"strongly agrees\"\n",
    "    elif 1.5 < ratio <= 2: return \"agrees\"\n",
    "    elif 1 < ratio <= 1.5: return \"somewhat agrees\"\n",
    "    elif ratio == 1: return \"neutral\"\n",
    "    elif 0.67 < ratio < 1: return \"somewhat disagrees\"\n",
    "    elif 0.5 < ratio <= 0.67: return \"disagrees\"\n",
    "    elif 0.33 < ratio <= 0.5: return \"strongly disagrees\"\n",
    "    elif ratio <= 0.33: return \"absolutely disagrees\"\n",
    "    else: return None\n",
    "    \n",
    "print(get_agreeance_text(2.5))"
   ]
  },
  {
   "cell_type": "markdown",
   "id": "a7da5b27",
   "metadata": {},
   "source": [
    "#### gets data from every row on the first page:"
   ]
  },
  {
   "cell_type": "code",
   "execution_count": 36,
   "id": "43d4607c",
   "metadata": {},
   "outputs": [],
   "source": [
    "\n",
    "data= []\n",
    "\n",
    "for row in rows:\n",
    "    d = dict()\n",
    "    \n",
    "    d['name'] = row.select_one('.views-field-title').text.strip()\n",
    "    d['allsides_page'] = 'https://www.allsides.com' + row.select_one('.views-field-title a')['href']\n",
    "    d['bias'] = row.select_one('.views-field-field-bias-image a')['href'].split('/')[-1]\n",
    "    d['agree'] = int(row.select_one('.agree').text)\n",
    "    d['disagree'] = int(row.select_one('.disagree').text)\n",
    "    d['agree_ratio'] = d['agree'] / d['disagree']\n",
    "    d['agreeance_text'] = get_agreeance_text(d['agree_ratio'])\n",
    "    \n",
    "    data.append(d)\n",
    "    \n",
    "    "
   ]
  },
  {
   "cell_type": "code",
   "execution_count": 37,
   "id": "ad69f64d",
   "metadata": {},
   "outputs": [
    {
     "name": "stdout",
     "output_type": "stream",
     "text": [
      "{'name': 'Associated Press', 'allsides_page': 'https://www.allsides.com/news-source/associated-press-media-bias', 'bias': 'left-center', 'agree': 31601, 'disagree': 24694, 'agree_ratio': 1.2797035717178262, 'agreeance_text': 'somewhat agrees'}\n"
     ]
    }
   ],
   "source": [
    "print(data[0])"
   ]
  },
  {
   "cell_type": "code",
   "execution_count": 38,
   "id": "2a9ebd9e",
   "metadata": {},
   "outputs": [
    {
     "name": "stdout",
     "output_type": "stream",
     "text": [
      "{'name': 'Associated Press', 'allsides_page': 'https://www.allsides.com/news-source/associated-press-media-bias', 'bias': 'left-center', 'agree': 31601, 'disagree': 24694, 'agree_ratio': 1.2797035717178262, 'agreeance_text': 'somewhat agrees'}\n",
      "{'name': 'Associated Press Fact Check', 'allsides_page': 'https://www.allsides.com/news-source/ap-fact-check-media-bias', 'bias': 'left-center', 'agree': 5960, 'disagree': 6811, 'agree_ratio': 0.8750550579944207, 'agreeance_text': 'somewhat disagrees'}\n",
      "{'name': 'CNN (Online News)', 'allsides_page': 'https://www.allsides.com/news-source/cnn-media-bias', 'bias': 'left', 'agree': 58489, 'disagree': 50574, 'agree_ratio': 1.1565033416379957, 'agreeance_text': 'somewhat agrees'}\n",
      "{'name': 'Fox News (Online News)', 'allsides_page': 'https://www.allsides.com/news-source/fox-news-media-bias', 'bias': 'right', 'agree': 49093, 'disagree': 51436, 'agree_ratio': 0.954448246364414, 'agreeance_text': 'somewhat disagrees'}\n",
      "{'name': 'Insider', 'allsides_page': 'https://www.allsides.com/news-source/insider-media-bias', 'bias': 'left-center', 'agree': 4342, 'disagree': 6599, 'agree_ratio': 0.6579784815881194, 'agreeance_text': 'disagrees'}\n",
      "{'name': 'National Review', 'allsides_page': 'https://www.allsides.com/news-source/national-review', 'bias': 'right', 'agree': 21227, 'disagree': 8714, 'agree_ratio': 2.4359651136102825, 'agreeance_text': 'strongly agrees'}\n",
      "{'name': 'NBC News (Online)', 'allsides_page': 'https://www.allsides.com/news-source/nbc-news-media-bias', 'bias': 'left-center', 'agree': 14035, 'disagree': 13380, 'agree_ratio': 1.0489536621823616, 'agreeance_text': 'somewhat agrees'}\n",
      "{'name': 'New York Post (News)', 'allsides_page': 'https://www.allsides.com/news-source/new-york-post', 'bias': 'right-center', 'agree': 16898, 'disagree': 8817, 'agree_ratio': 1.9165248950890326, 'agreeance_text': 'agrees'}\n",
      "{'name': 'New York Times (News)', 'allsides_page': 'https://www.allsides.com/news-source/new-york-times', 'bias': 'left-center', 'agree': 32280, 'disagree': 42050, 'agree_ratio': 0.7676575505350773, 'agreeance_text': 'somewhat disagrees'}\n",
      "{'name': 'New York Times (Opinion)', 'allsides_page': 'https://www.allsides.com/news-source/new-york-times-opinion-media-bias', 'bias': 'left', 'agree': 17190, 'disagree': 4824, 'agree_ratio': 3.5634328358208953, 'agreeance_text': 'absolutely agrees'}\n",
      "{'name': 'Newsmax (News)', 'allsides_page': 'https://www.allsides.com/news-source/newsmax', 'bias': 'right', 'agree': 11753, 'disagree': 11638, 'agree_ratio': 1.0098814229249011, 'agreeance_text': 'somewhat agrees'}\n",
      "{'name': 'Newsweek', 'allsides_page': 'https://www.allsides.com/news-source/newsweek', 'bias': 'center', 'agree': 4534, 'disagree': 8115, 'agree_ratio': 0.5587184226740604, 'agreeance_text': 'disagrees'}\n",
      "{'name': 'Reuters', 'allsides_page': 'https://www.allsides.com/news-source/reuters', 'bias': 'center', 'agree': 21030, 'disagree': 12340, 'agree_ratio': 1.7042139384116695, 'agreeance_text': 'agrees'}\n",
      "{'name': 'The Epoch Times', 'allsides_page': 'https://www.allsides.com/news-source/epoch-times-media-bias', 'bias': 'right-center', 'agree': 13277, 'disagree': 7052, 'agree_ratio': 1.8827283040272262, 'agreeance_text': 'agrees'}\n",
      "{'name': 'The Guardian', 'allsides_page': 'https://www.allsides.com/news-source/guardian', 'bias': 'left-center', 'agree': 15875, 'disagree': 9876, 'agree_ratio': 1.6074321587687324, 'agreeance_text': 'agrees'}\n",
      "{'name': 'The Hill', 'allsides_page': 'https://www.allsides.com/news-source/hill-media-bias', 'bias': 'center', 'agree': 18177, 'disagree': 24771, 'agree_ratio': 0.7338016228654475, 'agreeance_text': 'somewhat disagrees'}\n",
      "{'name': 'Wall Street Journal (News)', 'allsides_page': 'https://www.allsides.com/news-source/wall-street-journal-media-bias', 'bias': 'center', 'agree': 24740, 'disagree': 26970, 'agree_ratio': 0.9173155357804968, 'agreeance_text': 'somewhat disagrees'}\n",
      "{'name': 'Washington Examiner', 'allsides_page': 'https://www.allsides.com/news-source/washington-examiner', 'bias': 'right-center', 'agree': 14252, 'disagree': 6848, 'agree_ratio': 2.0811915887850465, 'agreeance_text': 'strongly agrees'}\n",
      "{'name': 'Washington Post', 'allsides_page': 'https://www.allsides.com/news-source/washington-post-media-bias', 'bias': 'left-center', 'agree': 38383, 'disagree': 26993, 'agree_ratio': 1.421961249212759, 'agreeance_text': 'somewhat agrees'}\n"
     ]
    }
   ],
   "source": [
    "for i in range(len(data)):\n",
    "    print(data[i])"
   ]
  },
  {
   "cell_type": "code",
   "execution_count": null,
   "id": "68c19ef5",
   "metadata": {},
   "outputs": [],
   "source": []
  }
 ],
 "metadata": {
  "kernelspec": {
   "display_name": "Python 3 (ipykernel)",
   "language": "python",
   "name": "python3"
  },
  "language_info": {
   "codemirror_mode": {
    "name": "ipython",
    "version": 3
   },
   "file_extension": ".py",
   "mimetype": "text/x-python",
   "name": "python",
   "nbconvert_exporter": "python",
   "pygments_lexer": "ipython3",
   "version": "3.9.7"
  }
 },
 "nbformat": 4,
 "nbformat_minor": 5
}
